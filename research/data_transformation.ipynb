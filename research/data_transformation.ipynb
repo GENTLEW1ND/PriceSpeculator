{
 "cells": [
  {
   "cell_type": "code",
   "execution_count": 1,
   "metadata": {},
   "outputs": [],
   "source": [
    "import os"
   ]
  },
  {
   "cell_type": "code",
   "execution_count": 16,
   "metadata": {},
   "outputs": [
    {
     "data": {
      "text/plain": [
       "'y:\\\\Documents\\\\ML_AI\\\\Smartphone price prediction\\\\PriceSpeculator'"
      ]
     },
     "execution_count": 16,
     "metadata": {},
     "output_type": "execute_result"
    }
   ],
   "source": [
    "%pwd"
   ]
  },
  {
   "cell_type": "code",
   "execution_count": 3,
   "metadata": {},
   "outputs": [
    {
     "name": "stdout",
     "output_type": "stream",
     "text": [
      "y:\\Documents\\ML_AI\\Smartphone price prediction\\PriceSpeculator\n"
     ]
    }
   ],
   "source": [
    "cd .."
   ]
  },
  {
   "cell_type": "code",
   "execution_count": 4,
   "metadata": {},
   "outputs": [
    {
     "data": {
      "text/plain": [
       "'y:\\\\Documents\\\\ML_AI\\\\Smartphone price prediction\\\\PriceSpeculator'"
      ]
     },
     "execution_count": 4,
     "metadata": {},
     "output_type": "execute_result"
    }
   ],
   "source": [
    "%pwd"
   ]
  },
  {
   "cell_type": "code",
   "execution_count": 17,
   "metadata": {},
   "outputs": [],
   "source": [
    "from dataclasses import dataclass\n",
    "from pathlib import Path\n",
    "\n",
    "@dataclass\n",
    "class DataTransformationConfig:\n",
    "    root_dir: Path\n",
    "    unzip_data_dir: Path"
   ]
  },
  {
   "cell_type": "code",
   "execution_count": 18,
   "metadata": {},
   "outputs": [],
   "source": [
    "from mlProject.constants import *\n",
    "from mlProject.utils.common import read_yaml, create_directories"
   ]
  },
  {
   "cell_type": "code",
   "execution_count": 19,
   "metadata": {},
   "outputs": [],
   "source": [
    "class ConfigurationManager:\n",
    "    def __init__(\n",
    "        self,\n",
    "        config_filepath = CONFIG_FILE_PATH,\n",
    "        params_filepath = PARAMS_FILE_PATH,\n",
    "        schema_filepath = SCHEMA_FILE_PATH\n",
    "    ):\n",
    "        self.config = read_yaml(config_filepath)\n",
    "        self.params = read_yaml(params_filepath)\n",
    "        self.schema = read_yaml(schema_filepath)\n",
    "        \n",
    "        create_directories([self.config.artifacts_root])\n",
    "        \n",
    "    def get_data_transformation_config(self) -> DataTransformationConfig:\n",
    "        config = self.config.data_transformation\n",
    "        create_directories([config.root_dir])\n",
    "        \n",
    "        data_tranformation = DataTransformationConfig(\n",
    "            root_dir=config.root_dir,\n",
    "            unzip_data_dir=config.unzip_data_dir\n",
    "        )\n",
    "        \n",
    "        return data_tranformation"
   ]
  },
  {
   "cell_type": "code",
   "execution_count": 20,
   "metadata": {},
   "outputs": [],
   "source": [
    "from mlProject import logger\n",
    "from sklearn.model_selection import train_test_split\n",
    "import pandas as pd\n",
    "import re\n",
    "from sklearn.feature_extraction.text import TfidfVectorizer\n",
    "from sklearn.preprocessing import StandardScaler\n",
    "import joblib\n",
    "import os"
   ]
  },
  {
   "cell_type": "code",
   "execution_count": 21,
   "metadata": {},
   "outputs": [],
   "source": [
    "class DataTransformation:\n",
    "    def __init__(self, config):\n",
    "        self.config = config\n",
    "\n",
    "    def Transformation(self):\n",
    "        data = pd.read_csv(self.config.unzip_data_dir,encoding='latin1')\n",
    "\n",
    "        # Dropping unnecessary columns\n",
    "        data = data.drop(columns=['Launched Price (Pakistan)', 'Launched Price (China)',\n",
    "                                  'Launched Price (USA)', 'Launched Price (Dubai)'])\n",
    "\n",
    "        # Function to clean RAM\n",
    "        def remove_gb(data):\n",
    "            for index, row in data.iterrows():\n",
    "                if '/' in row['RAM']:\n",
    "                    row_varients = row['RAM'].split('/')\n",
    "                    row_values = [int(x.replace('GB', '')) for x in row_varients]\n",
    "                    average_values = sum(row_values) / len(row_values)\n",
    "                    data.at[index, 'RAM'] = f'{average_values}GB'\n",
    "            return data\n",
    "\n",
    "        data = remove_gb(data)\n",
    "        data['RAM'] = data['RAM'].str.replace('GB', '').astype(float)\n",
    "\n",
    "        # Convert Camera columns to string and clean values\n",
    "        data['Front Camera'] = data['Front Camera'].astype(str)\n",
    "        data['Back Camera'] = data['Back Camera'].astype(str)\n",
    "\n",
    "        def process_camera(data, column_name):\n",
    "            for index, row in data.iterrows():\n",
    "                camera_value = row[column_name].replace('(UDC)', '')\n",
    "                row_variants = camera_value.split(',') if ',' in camera_value else [camera_value]\n",
    "                row_values = [int(val.replace('MP', '').replace('4K', '').strip()) for val in row_variants if val.replace('MP', '').replace('4K', '').strip().isdigit()]\n",
    "                average_value = sum(row_values) / len(row_values) if row_values else 0\n",
    "                data.at[index, column_name] = f'{average_value}MP'\n",
    "            data[column_name] = data[column_name].str.replace('MP', '').astype(float)\n",
    "            return data\n",
    "\n",
    "        data = process_camera(data, 'Front Camera')\n",
    "        data = process_camera(data, 'Back Camera')\n",
    "\n",
    "        # Clean 'Battery Capacity'\n",
    "        data['Battery Capacity'] = data['Battery Capacity'].str.replace('mAh', '').replace(',', '', regex=True).astype(float)\n",
    "\n",
    "        # Clean 'Screen Size'\n",
    "        def clean_screen_size(data, column_name):\n",
    "            cleaned_values = []\n",
    "            for value in data[column_name]:\n",
    "                numbers = re.findall(r'\\d+\\.?\\d*', value)\n",
    "                cleaned_value = sum([float(num) for num in numbers]) / len(numbers) if numbers else float('nan')\n",
    "                cleaned_values.append(cleaned_value)\n",
    "            data[column_name] = cleaned_values\n",
    "            return data\n",
    "\n",
    "        data = clean_screen_size(data, 'Screen Size')\n",
    "\n",
    "        # Clean 'Launched Price (India)'\n",
    "        data['Launched Price (India)'] = data['Launched Price (India)'].str.replace('INR', '').replace(',', '', regex=True).astype(float)\n",
    "        data['Mobile Weight'] = data['Mobile Weight'].str.replace('g', '').astype(float)\n",
    "\n",
    "        # Process Processor column using TF-IDF\n",
    "        processor_vectorizer = TfidfVectorizer()\n",
    "        processor_features = processor_vectorizer.fit_transform(data['Processor'].str.lower().str.replace('-', ' '))\n",
    "        processor_df = pd.DataFrame(processor_features.toarray(), columns=processor_vectorizer.get_feature_names_out())\n",
    "        combined_features = pd.concat([data.drop(columns=['Processor']), processor_df], axis=1)\n",
    "        \n",
    "         # Save the processor vectorizer\n",
    "        os.makedirs(self.config.root_dir, exist_ok=True)  # Ensure the directory exists\n",
    "        joblib.dump(processor_vectorizer, os.path.join(self.config.root_dir, \"processor_vectorizer.joblib\"))\n",
    "        \n",
    "\n",
    "        # Process Model Name column using TF-IDF\n",
    "        model_vectorizer = TfidfVectorizer()\n",
    "        model_features = model_vectorizer.fit_transform(combined_features['Model Name'].str.lower().replace('-', ' '))\n",
    "        model_df = pd.DataFrame(model_features.toarray(), columns=model_vectorizer.get_feature_names_out())\n",
    "        df = pd.concat([combined_features.drop(columns=['Model Name', 'Company Name']), model_df], axis=1)\n",
    "        \n",
    "        joblib.dump(model_vectorizer, os.path.join(self.config.root_dir, \"model_vectorizer.joblib\"))\n",
    "        \n",
    "\n",
    "        return df\n",
    "    \n",
    "\n",
    "    def TrainTestSplit(self, data):\n",
    "        # Split the data into training and testing sets\n",
    "        train, test = train_test_split(data, test_size=0.2, random_state=42)\n",
    "\n",
    "        \n",
    "        # Save the train and test sets to CSV files\n",
    "        train.to_csv(os.path.join(self.config.root_dir, \"train.csv\"), index=False)\n",
    "        test.to_csv(os.path.join(self.config.root_dir, \"test.csv\"), index=False)\n",
    "\n",
    "    \n",
    "        logger.info(f\"Training set shape: {train.shape}\")\n",
    "        logger.info(f\"Test set shape: {test.shape}\")\n",
    "\n",
    "        print(train.shape)\n",
    "        print(test.shape)\n",
    "            \n",
    "            \n",
    "            \n",
    "            "
   ]
  },
  {
   "cell_type": "code",
   "execution_count": 22,
   "metadata": {},
   "outputs": [
    {
     "name": "stdout",
     "output_type": "stream",
     "text": [
      "[2025-03-27 12:02:24,689: INFO: common: yaml file: config\\config.yaml loaded successfully]\n",
      "[2025-03-27 12:02:24,692: INFO: common: yaml file: params.yaml loaded successfully]\n",
      "[2025-03-27 12:02:24,697: INFO: common: yaml file: schema.yaml loaded successfully]\n",
      "[2025-03-27 12:02:24,700: INFO: common: Created directory at: artifacts]\n",
      "[2025-03-27 12:02:24,702: INFO: common: Created directory at: artifacts/data_transformation]\n",
      "[2025-03-27 12:02:25,579: INFO: 3604138271: Training set shape: (744, 529)]\n",
      "[2025-03-27 12:02:25,581: INFO: 3604138271: Test set shape: (186, 529)]\n",
      "(744, 529)\n",
      "(186, 529)\n"
     ]
    }
   ],
   "source": [
    "try:\n",
    "    config = ConfigurationManager()\n",
    "    data_transformation_config = config.get_data_transformation_config()\n",
    "    data_transformation = DataTransformation(data_transformation_config)\n",
    "    transformed_data = data_transformation.Transformation()\n",
    "    data_transformation.TrainTestSplit(transformed_data)\n",
    "except Exception as e:\n",
    "    raise e"
   ]
  }
 ],
 "metadata": {
  "kernelspec": {
   "display_name": "my_ml_project",
   "language": "python",
   "name": "python3"
  },
  "language_info": {
   "codemirror_mode": {
    "name": "ipython",
    "version": 3
   },
   "file_extension": ".py",
   "mimetype": "text/x-python",
   "name": "python",
   "nbconvert_exporter": "python",
   "pygments_lexer": "ipython3",
   "version": "3.9.21"
  }
 },
 "nbformat": 4,
 "nbformat_minor": 2
}
